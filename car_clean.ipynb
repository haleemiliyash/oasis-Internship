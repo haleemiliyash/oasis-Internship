{
 "cells": [
  {
   "cell_type": "code",
   "execution_count": 1,
   "metadata": {},
   "outputs": [],
   "source": [
    "import pandas as pd\n",
    "import numpy as np\n",
    "import seaborn as sns\n",
    "import matplotlib.pyplot as plt\n",
    "from sklearn.preprocessing import LabelEncoder\n",
    "import pickle\n",
    "import json\n",
    "import scipy\n",
    "from sklearn.preprocessing import StandardScaler, OneHotEncoder\n",
    "from sklearn.model_selection import train_test_split,GridSearchCV\n",
    "from sklearn import metrics\n",
    "from sklearn.metrics import r2_score,mean_squared_error,mean_absolute_error\n",
    "from sklearn.tree import DecisionTreeRegressor\n",
    "from sklearn.ensemble import RandomForestRegressor\n",
    "from sklearn.linear_model import LinearRegression\n",
    "from sklearn.metrics import confusion_matrix, accuracy_score, classification_report"
   ]
  },
  {
   "cell_type": "code",
   "execution_count": 2,
   "metadata": {},
   "outputs": [
    {
     "data": {
      "text/html": [
       "<div>\n",
       "<style scoped>\n",
       "    .dataframe tbody tr th:only-of-type {\n",
       "        vertical-align: middle;\n",
       "    }\n",
       "\n",
       "    .dataframe tbody tr th {\n",
       "        vertical-align: top;\n",
       "    }\n",
       "\n",
       "    .dataframe thead th {\n",
       "        text-align: right;\n",
       "    }\n",
       "</style>\n",
       "<table border=\"1\" class=\"dataframe\">\n",
       "  <thead>\n",
       "    <tr style=\"text-align: right;\">\n",
       "      <th></th>\n",
       "      <th>Car_Name</th>\n",
       "      <th>Year</th>\n",
       "      <th>Selling_Price</th>\n",
       "      <th>Present_Price</th>\n",
       "      <th>Driven_kms</th>\n",
       "      <th>Fuel_Type</th>\n",
       "      <th>Selling_type</th>\n",
       "      <th>Transmission</th>\n",
       "      <th>Owner</th>\n",
       "    </tr>\n",
       "  </thead>\n",
       "  <tbody>\n",
       "    <tr>\n",
       "      <th>0</th>\n",
       "      <td>ritz</td>\n",
       "      <td>2014</td>\n",
       "      <td>3.35</td>\n",
       "      <td>5.59</td>\n",
       "      <td>27000</td>\n",
       "      <td>Petrol</td>\n",
       "      <td>Dealer</td>\n",
       "      <td>Manual</td>\n",
       "      <td>0</td>\n",
       "    </tr>\n",
       "    <tr>\n",
       "      <th>1</th>\n",
       "      <td>sx4</td>\n",
       "      <td>2013</td>\n",
       "      <td>4.75</td>\n",
       "      <td>9.54</td>\n",
       "      <td>43000</td>\n",
       "      <td>Diesel</td>\n",
       "      <td>Dealer</td>\n",
       "      <td>Manual</td>\n",
       "      <td>0</td>\n",
       "    </tr>\n",
       "    <tr>\n",
       "      <th>2</th>\n",
       "      <td>ciaz</td>\n",
       "      <td>2017</td>\n",
       "      <td>7.25</td>\n",
       "      <td>9.85</td>\n",
       "      <td>6900</td>\n",
       "      <td>Petrol</td>\n",
       "      <td>Dealer</td>\n",
       "      <td>Manual</td>\n",
       "      <td>0</td>\n",
       "    </tr>\n",
       "    <tr>\n",
       "      <th>3</th>\n",
       "      <td>wagon r</td>\n",
       "      <td>2011</td>\n",
       "      <td>2.85</td>\n",
       "      <td>4.15</td>\n",
       "      <td>5200</td>\n",
       "      <td>Petrol</td>\n",
       "      <td>Dealer</td>\n",
       "      <td>Manual</td>\n",
       "      <td>0</td>\n",
       "    </tr>\n",
       "    <tr>\n",
       "      <th>4</th>\n",
       "      <td>swift</td>\n",
       "      <td>2014</td>\n",
       "      <td>4.60</td>\n",
       "      <td>6.87</td>\n",
       "      <td>42450</td>\n",
       "      <td>Diesel</td>\n",
       "      <td>Dealer</td>\n",
       "      <td>Manual</td>\n",
       "      <td>0</td>\n",
       "    </tr>\n",
       "  </tbody>\n",
       "</table>\n",
       "</div>"
      ],
      "text/plain": [
       "  Car_Name  Year  Selling_Price  Present_Price  Driven_kms Fuel_Type  \\\n",
       "0     ritz  2014           3.35           5.59       27000    Petrol   \n",
       "1      sx4  2013           4.75           9.54       43000    Diesel   \n",
       "2     ciaz  2017           7.25           9.85        6900    Petrol   \n",
       "3  wagon r  2011           2.85           4.15        5200    Petrol   \n",
       "4    swift  2014           4.60           6.87       42450    Diesel   \n",
       "\n",
       "  Selling_type Transmission  Owner  \n",
       "0       Dealer       Manual      0  \n",
       "1       Dealer       Manual      0  \n",
       "2       Dealer       Manual      0  \n",
       "3       Dealer       Manual      0  \n",
       "4       Dealer       Manual      0  "
      ]
     },
     "execution_count": 2,
     "metadata": {},
     "output_type": "execute_result"
    }
   ],
   "source": [
    "spl=pd.read_csv(\"D:/project/.venv/Internship/car_pirce_prediction/car_data.csv\")\n",
    "spl.head()"
   ]
  },
  {
   "cell_type": "markdown",
   "metadata": {},
   "source": [
    "# Exploratory data Analysis"
   ]
  },
  {
   "cell_type": "code",
   "execution_count": 3,
   "metadata": {},
   "outputs": [
    {
     "data": {
      "text/plain": [
       "(301, 9)"
      ]
     },
     "execution_count": 3,
     "metadata": {},
     "output_type": "execute_result"
    }
   ],
   "source": [
    "spl.shape"
   ]
  },
  {
   "cell_type": "code",
   "execution_count": 4,
   "metadata": {},
   "outputs": [
    {
     "name": "stdout",
     "output_type": "stream",
     "text": [
      "<class 'pandas.core.frame.DataFrame'>\n",
      "RangeIndex: 301 entries, 0 to 300\n",
      "Data columns (total 9 columns):\n",
      " #   Column         Non-Null Count  Dtype  \n",
      "---  ------         --------------  -----  \n",
      " 0   Car_Name       301 non-null    object \n",
      " 1   Year           301 non-null    int64  \n",
      " 2   Selling_Price  301 non-null    float64\n",
      " 3   Present_Price  301 non-null    float64\n",
      " 4   Driven_kms     301 non-null    int64  \n",
      " 5   Fuel_Type      301 non-null    object \n",
      " 6   Selling_type   301 non-null    object \n",
      " 7   Transmission   301 non-null    object \n",
      " 8   Owner          301 non-null    int64  \n",
      "dtypes: float64(2), int64(3), object(4)\n",
      "memory usage: 21.3+ KB\n"
     ]
    }
   ],
   "source": [
    "spl.info()"
   ]
  },
  {
   "cell_type": "code",
   "execution_count": 5,
   "metadata": {},
   "outputs": [
    {
     "data": {
      "text/html": [
       "<div>\n",
       "<style scoped>\n",
       "    .dataframe tbody tr th:only-of-type {\n",
       "        vertical-align: middle;\n",
       "    }\n",
       "\n",
       "    .dataframe tbody tr th {\n",
       "        vertical-align: top;\n",
       "    }\n",
       "\n",
       "    .dataframe thead th {\n",
       "        text-align: right;\n",
       "    }\n",
       "</style>\n",
       "<table border=\"1\" class=\"dataframe\">\n",
       "  <thead>\n",
       "    <tr style=\"text-align: right;\">\n",
       "      <th></th>\n",
       "      <th>Year</th>\n",
       "      <th>Selling_Price</th>\n",
       "      <th>Present_Price</th>\n",
       "      <th>Driven_kms</th>\n",
       "      <th>Owner</th>\n",
       "    </tr>\n",
       "  </thead>\n",
       "  <tbody>\n",
       "    <tr>\n",
       "      <th>count</th>\n",
       "      <td>301.000000</td>\n",
       "      <td>301.000000</td>\n",
       "      <td>301.000000</td>\n",
       "      <td>301.000000</td>\n",
       "      <td>301.000000</td>\n",
       "    </tr>\n",
       "    <tr>\n",
       "      <th>mean</th>\n",
       "      <td>2013.627907</td>\n",
       "      <td>4.661296</td>\n",
       "      <td>7.628472</td>\n",
       "      <td>36947.205980</td>\n",
       "      <td>0.043189</td>\n",
       "    </tr>\n",
       "    <tr>\n",
       "      <th>std</th>\n",
       "      <td>2.891554</td>\n",
       "      <td>5.082812</td>\n",
       "      <td>8.642584</td>\n",
       "      <td>38886.883882</td>\n",
       "      <td>0.247915</td>\n",
       "    </tr>\n",
       "    <tr>\n",
       "      <th>min</th>\n",
       "      <td>2003.000000</td>\n",
       "      <td>0.100000</td>\n",
       "      <td>0.320000</td>\n",
       "      <td>500.000000</td>\n",
       "      <td>0.000000</td>\n",
       "    </tr>\n",
       "    <tr>\n",
       "      <th>25%</th>\n",
       "      <td>2012.000000</td>\n",
       "      <td>0.900000</td>\n",
       "      <td>1.200000</td>\n",
       "      <td>15000.000000</td>\n",
       "      <td>0.000000</td>\n",
       "    </tr>\n",
       "    <tr>\n",
       "      <th>50%</th>\n",
       "      <td>2014.000000</td>\n",
       "      <td>3.600000</td>\n",
       "      <td>6.400000</td>\n",
       "      <td>32000.000000</td>\n",
       "      <td>0.000000</td>\n",
       "    </tr>\n",
       "    <tr>\n",
       "      <th>75%</th>\n",
       "      <td>2016.000000</td>\n",
       "      <td>6.000000</td>\n",
       "      <td>9.900000</td>\n",
       "      <td>48767.000000</td>\n",
       "      <td>0.000000</td>\n",
       "    </tr>\n",
       "    <tr>\n",
       "      <th>max</th>\n",
       "      <td>2018.000000</td>\n",
       "      <td>35.000000</td>\n",
       "      <td>92.600000</td>\n",
       "      <td>500000.000000</td>\n",
       "      <td>3.000000</td>\n",
       "    </tr>\n",
       "  </tbody>\n",
       "</table>\n",
       "</div>"
      ],
      "text/plain": [
       "              Year  Selling_Price  Present_Price     Driven_kms       Owner\n",
       "count   301.000000     301.000000     301.000000     301.000000  301.000000\n",
       "mean   2013.627907       4.661296       7.628472   36947.205980    0.043189\n",
       "std       2.891554       5.082812       8.642584   38886.883882    0.247915\n",
       "min    2003.000000       0.100000       0.320000     500.000000    0.000000\n",
       "25%    2012.000000       0.900000       1.200000   15000.000000    0.000000\n",
       "50%    2014.000000       3.600000       6.400000   32000.000000    0.000000\n",
       "75%    2016.000000       6.000000       9.900000   48767.000000    0.000000\n",
       "max    2018.000000      35.000000      92.600000  500000.000000    3.000000"
      ]
     },
     "execution_count": 5,
     "metadata": {},
     "output_type": "execute_result"
    }
   ],
   "source": [
    "spl.describe()"
   ]
  },
  {
   "cell_type": "code",
   "execution_count": 6,
   "metadata": {},
   "outputs": [
    {
     "data": {
      "text/plain": [
       "Car_Name         0\n",
       "Year             0\n",
       "Selling_Price    0\n",
       "Present_Price    0\n",
       "Driven_kms       0\n",
       "Fuel_Type        0\n",
       "Selling_type     0\n",
       "Transmission     0\n",
       "Owner            0\n",
       "dtype: int64"
      ]
     },
     "execution_count": 6,
     "metadata": {},
     "output_type": "execute_result"
    }
   ],
   "source": [
    "spl.isnull().sum()"
   ]
  },
  {
   "cell_type": "code",
   "execution_count": 7,
   "metadata": {},
   "outputs": [
    {
     "data": {
      "text/plain": [
       "Index(['Car_Name', 'Year', 'Selling_Price', 'Present_Price', 'Driven_kms',\n",
       "       'Fuel_Type', 'Selling_type', 'Transmission', 'Owner'],\n",
       "      dtype='object')"
      ]
     },
     "execution_count": 7,
     "metadata": {},
     "output_type": "execute_result"
    }
   ],
   "source": [
    "spl.columns"
   ]
  },
  {
   "cell_type": "code",
   "execution_count": 8,
   "metadata": {},
   "outputs": [
    {
     "name": "stderr",
     "output_type": "stream",
     "text": [
      "C:\\Users\\halee\\AppData\\Local\\Temp\\ipykernel_12100\\446475625.py:3: UserWarning: \n",
      "\n",
      "`distplot` is a deprecated function and will be removed in seaborn v0.14.0.\n",
      "\n",
      "Please adapt your code to use either `displot` (a figure-level function with\n",
      "similar flexibility) or `histplot` (an axes-level function for histograms).\n",
      "\n",
      "For a guide to updating your code to use the new functions, please see\n",
      "https://gist.github.com/mwaskom/de44147ed2974457ad6372750bbe5751\n",
      "\n",
      "  sns.distplot(spl[i])\n"
     ]
    },
    {
     "data": {
      "image/png": "[encoded data removed]",
      "text/plain": [
       "<Figure size 640x480 with 1 Axes>"
      ]
     },
     "metadata": {},
     "output_type": "display_data"
    },
    {
     "name": "stderr",
     "output_type": "stream",
     "text": [
      "C:\\Users\\halee\\AppData\\Local\\Temp\\ipykernel_12100\\446475625.py:3: UserWarning: \n",
      "\n",
      "`distplot` is a deprecated function and will be removed in seaborn v0.14.0.\n",
      "\n",
      "Please adapt your code to use either `displot` (a figure-level function with\n",
      "similar flexibility) or `histplot` (an axes-level function for histograms).\n",
      "\n",
      "For a guide to updating your code to use the new functions, please see\n",
      "https://gist.github.com/mwaskom/de44147ed2974457ad6372750bbe5751\n",
      "\n",
      "  sns.distplot(spl[i])\n"
     ]
    },
    {
     "data": {
      "image/png": "[encoded data removed]",
      "text/plain": [
       "<Figure size 640x480 with 1 Axes>"
      ]
     },
     "metadata": {},
     "output_type": "display_data"
    },
    {
     "name": "stderr",
     "output_type": "stream",
     "text": [
      "C:\\Users\\halee\\AppData\\Local\\Temp\\ipykernel_12100\\446475625.py:3: UserWarning: \n",
      "\n",
      "`distplot` is a deprecated function and will be removed in seaborn v0.14.0.\n",
      "\n",
      "Please adapt your code to use either `displot` (a figure-level function with\n",
      "similar flexibility) or `histplot` (an axes-level function for histograms).\n",
      "\n",
      "For a guide to updating your code to use the new functions, please see\n",
      "https://gist.github.com/mwaskom/de44147ed2974457ad6372750bbe5751\n",
      "\n",
      "  sns.distplot(spl[i])\n"
     ]
    },
    {
     "data": {
      "image/png": "[encoded data removed]",
      "text/plain": [
       "<Figure size 640x480 with 1 Axes>"
      ]
     },
     "metadata": {},
     "output_type": "display_data"
    },
    {
     "name": "stderr",
     "output_type": "stream",
     "text": [
      "C:\\Users\\halee\\AppData\\Local\\Temp\\ipykernel_12100\\446475625.py:3: UserWarning: \n",
      "\n",
      "`distplot` is a deprecated function and will be removed in seaborn v0.14.0.\n",
      "\n",
      "Please adapt your code to use either `displot` (a figure-level function with\n",
      "similar flexibility) or `histplot` (an axes-level function for histograms).\n",
      "\n",
      "For a guide to updating your code to use the new functions, please see\n",
      "https://gist.github.com/mwaskom/de44147ed2974457ad6372750bbe5751\n",
      "\n",
      "  sns.distplot(spl[i])\n"
     ]
    },
    {
     "data": {
      "image/png": "[encoded data removed]",
      "text/plain": [
       "<Figure size 640x480 with 1 Axes>"
      ]
     },
     "metadata": {},
     "output_type": "display_data"
    }
   ],
   "source": [
    "a=['Selling_Price','Present_Price','Driven_kms','Year']\n",
    "for i in a:\n",
    "    sns.distplot(spl[i])\n",
    "    plt.title(i)\n",
    "    plt.show()"
   ]
  },
  {
   "cell_type": "code",
   "execution_count": 9,
   "metadata": {},
   "outputs": [
    {
     "data": {
      "text/plain": [
       "Index(['Car_Name', 'Year', 'Selling_Price', 'Present_Price', 'Driven_kms',\n",
       "       'Fuel_Type', 'Selling_type', 'Transmission', 'Owner'],\n",
       "      dtype='object')"
      ]
     },
     "execution_count": 9,
     "metadata": {},
     "output_type": "execute_result"
    }
   ],
   "source": [
    "spl.columns"
   ]
  },
  {
   "cell_type": "code",
   "execution_count": 10,
   "metadata": {},
   "outputs": [
    {
     "data": {
      "text/plain": [
       "array([2014, 2013, 2017, 2011, 2018, 2015, 2016, 2009, 2010, 2012, 2003,\n",
       "       2008, 2006, 2005, 2004, 2007], dtype=int64)"
      ]
     },
     "execution_count": 10,
     "metadata": {},
     "output_type": "execute_result"
    }
   ],
   "source": [
    "spl['Year'].unique()"
   ]
  },
  {
   "cell_type": "code",
   "execution_count": 11,
   "metadata": {},
   "outputs": [
    {
     "data": {
      "text/plain": [
       "array([ 27000,  43000,   6900,   5200,  42450,   2071,  18796,  33429,\n",
       "        20273,  42367,   2135,  51000,  15000,  26000,  77427,  41678,\n",
       "        35500,  41442,  25000,   2400,  50000,  45280,  56879,  20000,\n",
       "        55138,  16200,  44542,  45000,  51439,  54200,  39000,  49998,\n",
       "        48767, 127000,  10079,  62000,  24524,  46706,  58000,  45780,\n",
       "        64532,  65000,  25870,  37000, 104707,  40000, 135000,  90000,\n",
       "        70000,  40534,  39485,  41000,  40001,  40588,  78000,  47000,\n",
       "         6000,  11000,  59000,  88000,  12000,  71000,  56001,  83000,\n",
       "        36000,  72000, 135154,  80000,  89000,  23000,  38000, 197176,\n",
       "       142000,  56000,  58242,  75000,  29000,   8700,  50024,   3000,\n",
       "         1400,   4000,   1200,   4100,  21700,  16500,  18000,   7000,\n",
       "        35000,  17000,  17500,  33000,  14000,   5400,   5700,  46500,\n",
       "        11500,   1300,   5000,   3500,    500,  11800,  23500,  16000,\n",
       "        16600,  32000,  19000,  24000,  31000,  13000,   8000,   4300,\n",
       "         8600,  14500,   1000,  42000,   5500,   6700,  13700,  38600,\n",
       "        30000, 213000,  60000,  21000,   1900,  22000,  55000,  49000,\n",
       "       500000,  53000,  92233,  28200,  53460,  28282,   3493,  12479,\n",
       "        34797,   3435,  21125,  35775,  43535,  22671,  31604,  20114,\n",
       "        36100,  12500,  45078,  38488,  77632,  61381,  36198,  22517,\n",
       "        24678,  57000,  52132,  15001,  12900,   4492,  15141,  11849,\n",
       "        68000,  60241,  23709,  32322,  35866,  34000,  35934,  56701,\n",
       "        31427,  48000,  54242,  53675,  49562,  40324,  36054,  29223,\n",
       "         5600,  40023,  16002,  40026,  21200,  19434,  18828,  69341,\n",
       "        69562,  27600,  61203,  30753,  24800,  21780,  40126,  14465,\n",
       "        50456,  63000,   9010,   9800,  15059,  28569,  44000,  10980,\n",
       "        33019,  60076,  33988,  87934,   9000,   5464], dtype=int64)"
      ]
     },
     "execution_count": 11,
     "metadata": {},
     "output_type": "execute_result"
    }
   ],
   "source": [
    "spl['Driven_kms'].unique()"
   ]
  },
  {
   "cell_type": "code",
   "execution_count": 58,
   "metadata": {},
   "outputs": [
    {
     "data": {
      "text/plain": [
       "array(['ritz', 'sx4', 'ciaz', 'wagon r', 'swift', 'vitara brezza',\n",
       "       's cross', 'alto 800', 'ertiga', 'dzire', 'alto k10', 'ignis',\n",
       "       '800', 'baleno', 'omni', 'fortuner', 'innova', 'corolla altis',\n",
       "       'etios cross', 'etios g', 'etios liva', 'corolla', 'etios gd',\n",
       "       'camry', 'land cruiser', 'Royal Enfield Thunder 500',\n",
       "       'UM Renegade Mojave', 'KTM RC200', 'Bajaj Dominar 400',\n",
       "       'Royal Enfield Classic 350', 'KTM RC390', 'Hyosung GT250R',\n",
       "       'Royal Enfield Thunder 350', 'KTM 390 Duke ',\n",
       "       'Mahindra Mojo XT300', 'Bajaj Pulsar RS200',\n",
       "       'Royal Enfield Bullet 350', 'Royal Enfield Classic 500',\n",
       "       'Bajaj Avenger 220', 'Bajaj Avenger 150', 'Honda CB Hornet 160R',\n",
       "       'Yamaha FZ S V 2.0', 'Yamaha FZ 16', 'TVS Apache RTR 160',\n",
       "       'Bajaj Pulsar 150', 'Honda CBR 150', 'Hero Extreme',\n",
       "       'Bajaj Avenger 220 dtsi', 'Bajaj Avenger 150 street',\n",
       "       'Yamaha FZ  v 2.0', 'Bajaj Pulsar  NS 200', 'Bajaj Pulsar 220 F',\n",
       "       'TVS Apache RTR 180', 'Hero Passion X pro', 'Bajaj Pulsar NS 200',\n",
       "       'Yamaha Fazer ', 'Honda Activa 4G', 'TVS Sport ',\n",
       "       'Honda Dream Yuga ', 'Bajaj Avenger Street 220',\n",
       "       'Hero Splender iSmart', 'Activa 3g', 'Hero Passion Pro',\n",
       "       'Honda CB Trigger', 'Yamaha FZ S ', 'Bajaj Pulsar 135 LS',\n",
       "       'Activa 4g', 'Honda CB Unicorn', 'Hero Honda CBZ extreme',\n",
       "       'Honda Karizma', 'Honda Activa 125', 'TVS Jupyter',\n",
       "       'Hero Honda Passion Pro', 'Hero Splender Plus', 'Honda CB Shine',\n",
       "       'Bajaj Discover 100', 'Suzuki Access 125', 'TVS Wego',\n",
       "       'Honda CB twister', 'Hero Glamour', 'Hero Super Splendor',\n",
       "       'Bajaj Discover 125', 'Hero Hunk', 'Hero  Ignitor Disc',\n",
       "       'Hero  CBZ Xtreme', 'Bajaj  ct 100', 'i20', 'grand i10', 'i10',\n",
       "       'eon', 'xcent', 'elantra', 'creta', 'verna', 'city', 'brio',\n",
       "       'amaze', 'jazz'], dtype=object)"
      ]
     },
     "execution_count": 58,
     "metadata": {},
     "output_type": "execute_result"
    }
   ],
   "source": [
    "spl['Car_Name'].unique()"
   ]
  },
  {
   "cell_type": "code",
   "execution_count": 59,
   "metadata": {},
   "outputs": [
    {
     "data": {
      "text/plain": [
       "array([ 3.35,  4.75,  7.25,  2.85,  4.6 ,  9.25,  6.75,  6.5 ,  8.75,\n",
       "        7.45,  6.85,  7.5 ,  6.1 ,  2.25,  7.75,  3.25,  2.65,  4.9 ,\n",
       "        4.4 ,  2.5 ,  2.9 ,  3.  ,  4.15,  6.  ,  1.95,  3.1 ,  2.35,\n",
       "        4.95,  5.5 ,  2.95,  4.65,  0.35,  5.85,  2.55,  1.25,  1.05,\n",
       "        5.8 , 14.9 , 23.  , 18.  , 16.  ,  2.75,  3.6 ,  4.5 ,  4.1 ,\n",
       "       19.99,  6.95, 18.75, 23.5 , 33.  , 19.75,  4.35, 14.25,  3.95,\n",
       "        1.5 ,  5.25, 14.5 , 14.73, 12.5 ,  3.49, 35.  ,  5.9 ,  3.45,\n",
       "        3.8 , 11.25,  3.51,  4.  , 20.75, 17.  ,  7.05,  9.65,  1.75,\n",
       "        1.7 ,  1.65,  1.45,  1.35,  1.2 ,  1.15,  1.11,  1.1 ,  1.  ,\n",
       "        0.95,  0.9 ,  0.75,  0.8 ,  0.78,  0.72,  0.65,  0.6 ,  0.55,\n",
       "        0.52,  0.51,  0.5 ,  0.48,  0.45,  0.42,  0.4 ,  0.38,  0.31,\n",
       "        0.3 ,  0.27,  0.25,  0.2 ,  0.18,  0.17,  0.16,  0.15,  0.12,\n",
       "        0.1 ,  5.75,  5.15,  7.9 ,  4.85, 11.75,  3.15,  6.45,  3.5 ,\n",
       "        8.25,  5.11,  2.7 ,  6.15, 11.45,  3.9 ,  9.1 ,  4.8 ,  2.  ,\n",
       "        5.35,  6.25,  5.95,  5.2 ,  3.75, 12.9 ,  5.  ,  5.4 ,  7.2 ,\n",
       "       10.25,  8.5 ,  8.4 ,  9.15,  6.6 ,  3.65,  8.35,  6.7 ,  5.3 ,\n",
       "       10.9 ,  8.65,  9.7 ,  2.1 ,  8.99,  7.4 ,  5.65, 10.11,  6.4 ,\n",
       "        8.55,  9.5 , 11.5 ])"
      ]
     },
     "execution_count": 59,
     "metadata": {},
     "output_type": "execute_result"
    }
   ],
   "source": [
    "spl['Selling_Price'].unique()"
   ]
  },
  {
   "cell_type": "code",
   "execution_count": 68,
   "metadata": {},
   "outputs": [
    {
     "data": {
      "text/plain": [
       "array([ 5.59 ,  9.54 ,  9.85 ,  4.15 ,  6.87 ,  9.83 ,  8.12 ,  8.61 ,\n",
       "        8.89 ,  8.92 ,  3.6  , 10.38 ,  9.94 ,  7.71 ,  7.21 , 10.79 ,\n",
       "        5.09 ,  7.98 ,  3.95 ,  5.71 ,  8.01 ,  3.46 ,  4.41 ,  4.99 ,\n",
       "        5.87 ,  6.49 ,  5.98 ,  4.89 ,  7.49 ,  9.95 ,  8.06 ,  7.74 ,\n",
       "        7.2  ,  2.28 ,  3.76 ,  7.87 ,  3.98 ,  7.15 ,  2.69 , 12.04 ,\n",
       "        9.29 , 30.61 , 19.77 , 10.21 , 15.04 ,  7.27 , 18.54 ,  6.8  ,\n",
       "       35.96 , 18.61 ,  7.7  , 36.23 ,  6.95 , 23.15 , 20.45 , 13.74 ,\n",
       "       20.91 ,  6.76 , 12.48 ,  8.93 , 14.68 , 12.35 , 22.83 , 14.89 ,\n",
       "        7.85 , 25.39 , 13.46 , 23.73 , 92.6  ,  6.05 , 16.09 , 13.7  ,\n",
       "       22.78 , 18.64 ,  1.9  ,  1.82 ,  1.78 ,  1.6  ,  1.47 ,  2.37 ,\n",
       "        3.45 ,  1.5  ,  2.4  ,  1.4  ,  1.26 ,  1.17 ,  1.75 ,  0.95 ,\n",
       "        0.8  ,  0.87 ,  0.84 ,  0.82 ,  0.81 ,  0.74 ,  1.2  ,  0.787,\n",
       "        0.99 ,  0.94 ,  0.826,  0.55 ,  0.88 ,  0.51 ,  0.52 ,  0.54 ,\n",
       "        0.73 ,  0.83 ,  0.64 ,  0.72 ,  1.05 ,  0.57 ,  0.48 ,  0.58 ,\n",
       "        0.47 ,  0.75 ,  0.65 ,  0.32 ,  6.79 ,  5.7  ,  4.6  ,  4.43 ,\n",
       "        7.13 ,  8.1  , 14.79 , 13.6  ,  9.4  ,  8.4  ,  5.43 ,  7.6  ,\n",
       "        9.9  ,  6.82 ,  5.35 ,  7.   ,  5.97 ,  5.8  ,  8.7  , 10.   ,\n",
       "        7.5  ,  5.9  , 14.   , 11.8  ,  8.5  ,  7.9  ,  6.4  ,  6.1  ,\n",
       "       13.09 , 11.6  , 11.   , 12.5  ])"
      ]
     },
     "execution_count": 68,
     "metadata": {},
     "output_type": "execute_result"
    }
   ],
   "source": [
    "spl['Present_Price'].unique()"
   ]
  },
  {
   "cell_type": "code",
   "execution_count": 38,
   "metadata": {},
   "outputs": [
    {
     "data": {
      "text/plain": [
       "3"
      ]
     },
     "execution_count": 38,
     "metadata": {},
     "output_type": "execute_result"
    }
   ],
   "source": [
    "spl['Fuel_Type'].nunique()"
   ]
  },
  {
   "cell_type": "code",
   "execution_count": 14,
   "metadata": {},
   "outputs": [
    {
     "data": {
      "text/plain": [
       "array(['Manual', 'Automatic'], dtype=object)"
      ]
     },
     "execution_count": 14,
     "metadata": {},
     "output_type": "execute_result"
    }
   ],
   "source": [
    "spl['Transmission'].unique()"
   ]
  },
  {
   "cell_type": "code",
   "execution_count": 13,
   "metadata": {},
   "outputs": [
    {
     "data": {
      "text/plain": [
       "array([0, 1, 3], dtype=int64)"
      ]
     },
     "execution_count": 13,
     "metadata": {},
     "output_type": "execute_result"
    }
   ],
   "source": [
    "spl['Owner'].unique()"
   ]
  },
  {
   "cell_type": "code",
   "execution_count": 12,
   "metadata": {},
   "outputs": [
    {
     "data": {
      "text/plain": [
       "array([ 27000,  43000,   6900,   5200,  42450,   2071,  18796,  33429,\n",
       "        20273,  42367,   2135,  51000,  15000,  26000,  77427,  41678,\n",
       "        35500,  41442,  25000,   2400,  50000,  45280,  56879,  20000,\n",
       "        55138,  16200,  44542,  45000,  51439,  54200,  39000,  49998,\n",
       "        48767, 127000,  10079,  62000,  24524,  46706,  58000,  45780,\n",
       "        64532,  65000,  25870,  37000, 104707,  40000, 135000,  90000,\n",
       "        70000,  40534,  39485,  41000,  40001,  40588,  78000,  47000,\n",
       "         6000,  11000,  59000,  88000,  12000,  71000,  56001,  83000,\n",
       "        36000,  72000, 135154,  80000,  89000,  23000,  38000, 197176,\n",
       "       142000,  56000,  58242,  75000,  29000,   8700,  50024,   3000,\n",
       "         1400,   4000,   1200,   4100,  21700,  16500,  18000,   7000,\n",
       "        35000,  17000,  17500,  33000,  14000,   5400,   5700,  46500,\n",
       "        11500,   1300,   5000,   3500,    500,  11800,  23500,  16000,\n",
       "        16600,  32000,  19000,  24000,  31000,  13000,   8000,   4300,\n",
       "         8600,  14500,   1000,  42000,   5500,   6700,  13700,  38600,\n",
       "        30000, 213000,  60000,  21000,   1900,  22000,  55000,  49000,\n",
       "       500000,  53000,  92233,  28200,  53460,  28282,   3493,  12479,\n",
       "        34797,   3435,  21125,  35775,  43535,  22671,  31604,  20114,\n",
       "        36100,  12500,  45078,  38488,  77632,  61381,  36198,  22517,\n",
       "        24678,  57000,  52132,  15001,  12900,   4492,  15141,  11849,\n",
       "        68000,  60241,  23709,  32322,  35866,  34000,  35934,  56701,\n",
       "        31427,  48000,  54242,  53675,  49562,  40324,  36054,  29223,\n",
       "         5600,  40023,  16002,  40026,  21200,  19434,  18828,  69341,\n",
       "        69562,  27600,  61203,  30753,  24800,  21780,  40126,  14465,\n",
       "        50456,  63000,   9010,   9800,  15059,  28569,  44000,  10980,\n",
       "        33019,  60076,  33988,  87934,   9000,   5464], dtype=int64)"
      ]
     },
     "execution_count": 12,
     "metadata": {},
     "output_type": "execute_result"
    }
   ],
   "source": [
    "spl['Driven_kms'].unique()"
   ]
  },
  {
   "cell_type": "markdown",
   "metadata": {},
   "source": [
    "# finding skewness value"
   ]
  },
  {
   "cell_type": "code",
   "execution_count": 15,
   "metadata": {},
   "outputs": [
    {
     "name": "stdout",
     "output_type": "stream",
     "text": [
      "2.480979484005291\n",
      "4.065021455029187\n",
      "6.403895025283172\n",
      "-1.2399702494847509\n"
     ]
    }
   ],
   "source": [
    "b=['Selling_Price','Present_Price','Driven_kms','Year']\n",
    "for i in b:\n",
    "    sk_value_1=scipy.stats.skew(spl[i], axis=0, bias=True)\n",
    "    print(sk_value_1)"
   ]
  },
  {
   "cell_type": "markdown",
   "metadata": {},
   "source": [
    "# log transform"
   ]
  },
  {
   "cell_type": "code",
   "execution_count": 16,
   "metadata": {},
   "outputs": [],
   "source": [
    "spl['Selling_Price']= np.log(spl['Selling_Price'])\n",
    "spl['Present_Price']= np.log(spl['Present_Price'])\n",
    "#spl['Driven_kms']= np.log(spl['Driven_kms'])\n"
   ]
  },
  {
   "cell_type": "code",
   "execution_count": 17,
   "metadata": {},
   "outputs": [
    {
     "name": "stdout",
     "output_type": "stream",
     "text": [
      "-0.47195224980427514\n",
      "-0.36978461052603007\n",
      "6.403895025283172\n",
      "-1.2399702494847509\n"
     ]
    }
   ],
   "source": [
    "for i in b:\n",
    "    sk_value_2=scipy.stats.skew(spl[i], axis=0, bias=True)\n",
    "    print(sk_value_2)"
   ]
  },
  {
   "cell_type": "markdown",
   "metadata": {},
   "source": [
    "# Outliner dectection"
   ]
  },
  {
   "cell_type": "code",
   "execution_count": 18,
   "metadata": {},
   "outputs": [],
   "source": [
    "def outlier(spl,column):\n",
    "  q1= spl[column].quantile(0.25)\n",
    "  q3= spl[column].quantile(0.75)\n",
    "\n",
    "  iqr= q3-q1\n",
    "\n",
    "  upper_threshold= q3 + (1.5*iqr)\n",
    "  lower_threshold= q1 - (1.5*iqr)\n",
    "\n",
    "  return upper_threshold,lower_threshold"
   ]
  },
  {
   "cell_type": "code",
   "execution_count": 19,
   "metadata": {},
   "outputs": [
    {
     "name": "stdout",
     "output_type": "stream",
     "text": [
      "(4.637439446556877, -2.9510404929866483)\n",
      "(5.457854557660429, -2.9829982437259304)\n",
      "(99417.5, -35650.5)\n",
      "(2022.0, 2006.0)\n"
     ]
    }
   ],
   "source": [
    "column=['Selling_Price','Present_Price','Driven_kms','Year']\n",
    "for i in column:\n",
    "    print(outlier(spl,i))"
   ]
  },
  {
   "cell_type": "code",
   "execution_count": 20,
   "metadata": {},
   "outputs": [
    {
     "data": {
      "image/png": "[encoded data removed]",
      "text/plain": [
       "<Figure size 640x480 with 1 Axes>"
      ]
     },
     "metadata": {},
     "output_type": "display_data"
    },
    {
     "data": {
      "image/png": "[encoded data removed]",
      "text/plain": [
       "<Figure size 640x480 with 1 Axes>"
      ]
     },
     "metadata": {},
     "output_type": "display_data"
    },
    {
     "data": {
      "image/png": "[encoded data removed]",
      "text/plain": [
       "<Figure size 640x480 with 1 Axes>"
      ]
     },
     "metadata": {},
     "output_type": "display_data"
    },
    {
     "data": {
      "image/png": "[encoded data removed]",
      "text/plain": [
       "<Figure size 640x480 with 1 Axes>"
      ]
     },
     "metadata": {},
     "output_type": "display_data"
    }
   ],
   "source": [
    "for i in column:\n",
    "    plt.subplot(3,2,4)\n",
    "    sns.boxplot(x=spl[i])\n",
    "    plt.title(\"Box plot for\" + i)\n",
    "    plt.show()"
   ]
  },
  {
   "cell_type": "code",
   "execution_count": 19,
   "metadata": {},
   "outputs": [
    {
     "data": {
      "text/plain": [
       "Index(['Car_Name', 'Year', 'Selling_Price', 'Present_Price', 'Driven_kms',\n",
       "       'Fuel_Type', 'Selling_type', 'Transmission', 'Owner'],\n",
       "      dtype='object')"
      ]
     },
     "execution_count": 19,
     "metadata": {},
     "output_type": "execute_result"
    }
   ],
   "source": [
    "spl.columns"
   ]
  },
  {
   "cell_type": "code",
   "execution_count": 21,
   "metadata": {},
   "outputs": [
    {
     "data": {
      "text/plain": [
       "<Axes: >"
      ]
     },
     "execution_count": 21,
     "metadata": {},
     "output_type": "execute_result"
    },
    {
     "data": {
      "image/png": "[encoded data removed]",
      "text/plain": [
       "<Figure size 640x480 with 2 Axes>"
      ]
     },
     "metadata": {},
     "output_type": "display_data"
    }
   ],
   "source": [
    "x=spl[['Year','Selling_Price','Present_Price','Driven_kms','Owner']].corr()\n",
    "sns.heatmap(x, annot=True, cmap=\"coolwarm\")"
   ]
  },
  {
   "cell_type": "markdown",
   "metadata": {},
   "source": [
    "# Data Encoding "
   ]
  },
  {
   "cell_type": "code",
   "execution_count": 23,
   "metadata": {},
   "outputs": [
    {
     "data": {
      "text/plain": [
       "{'Car_Name_initial': ['ritz',\n",
       "  'sx4',\n",
       "  'ciaz',\n",
       "  'wagon r',\n",
       "  'swift',\n",
       "  'vitara brezza',\n",
       "  's cross',\n",
       "  'alto 800',\n",
       "  'ertiga',\n",
       "  'dzire',\n",
       "  'alto k10',\n",
       "  'ignis',\n",
       "  '800',\n",
       "  'baleno',\n",
       "  'omni',\n",
       "  'fortuner',\n",
       "  'innova',\n",
       "  'corolla altis',\n",
       "  'etios cross',\n",
       "  'etios g',\n",
       "  'etios liva',\n",
       "  'corolla',\n",
       "  'etios gd',\n",
       "  'camry',\n",
       "  'land cruiser',\n",
       "  'Royal Enfield Thunder 500',\n",
       "  'UM Renegade Mojave',\n",
       "  'KTM RC200',\n",
       "  'Bajaj Dominar 400',\n",
       "  'Royal Enfield Classic 350',\n",
       "  'KTM RC390',\n",
       "  'Hyosung GT250R',\n",
       "  'Royal Enfield Thunder 350',\n",
       "  'KTM 390 Duke ',\n",
       "  'Mahindra Mojo XT300',\n",
       "  'Bajaj Pulsar RS200',\n",
       "  'Royal Enfield Bullet 350',\n",
       "  'Royal Enfield Classic 500',\n",
       "  'Bajaj Avenger 220',\n",
       "  'Bajaj Avenger 150',\n",
       "  'Honda CB Hornet 160R',\n",
       "  'Yamaha FZ S V 2.0',\n",
       "  'Yamaha FZ 16',\n",
       "  'TVS Apache RTR 160',\n",
       "  'Bajaj Pulsar 150',\n",
       "  'Honda CBR 150',\n",
       "  'Hero Extreme',\n",
       "  'Bajaj Avenger 220 dtsi',\n",
       "  'Bajaj Avenger 150 street',\n",
       "  'Yamaha FZ  v 2.0',\n",
       "  'Bajaj Pulsar  NS 200',\n",
       "  'Bajaj Pulsar 220 F',\n",
       "  'TVS Apache RTR 180',\n",
       "  'Hero Passion X pro',\n",
       "  'Bajaj Pulsar NS 200',\n",
       "  'Yamaha Fazer ',\n",
       "  'Honda Activa 4G',\n",
       "  'TVS Sport ',\n",
       "  'Honda Dream Yuga ',\n",
       "  'Bajaj Avenger Street 220',\n",
       "  'Hero Splender iSmart',\n",
       "  'Activa 3g',\n",
       "  'Hero Passion Pro',\n",
       "  'Honda CB Trigger',\n",
       "  'Yamaha FZ S ',\n",
       "  'Bajaj Pulsar 135 LS',\n",
       "  'Activa 4g',\n",
       "  'Honda CB Unicorn',\n",
       "  'Hero Honda CBZ extreme',\n",
       "  'Honda Karizma',\n",
       "  'Honda Activa 125',\n",
       "  'TVS Jupyter',\n",
       "  'Hero Honda Passion Pro',\n",
       "  'Hero Splender Plus',\n",
       "  'Honda CB Shine',\n",
       "  'Bajaj Discover 100',\n",
       "  'Suzuki Access 125',\n",
       "  'TVS Wego',\n",
       "  'Honda CB twister',\n",
       "  'Hero Glamour',\n",
       "  'Hero Super Splendor',\n",
       "  'Bajaj Discover 125',\n",
       "  'Hero Hunk',\n",
       "  'Hero  Ignitor Disc',\n",
       "  'Hero  CBZ Xtreme',\n",
       "  'Bajaj  ct 100',\n",
       "  'i20',\n",
       "  'grand i10',\n",
       "  'i10',\n",
       "  'eon',\n",
       "  'xcent',\n",
       "  'elantra',\n",
       "  'creta',\n",
       "  'verna',\n",
       "  'city',\n",
       "  'brio',\n",
       "  'amaze',\n",
       "  'jazz'],\n",
       " 'Car_Name_Final': [90,\n",
       "  93,\n",
       "  68,\n",
       "  96,\n",
       "  92,\n",
       "  95,\n",
       "  91,\n",
       "  62,\n",
       "  76,\n",
       "  73,\n",
       "  63,\n",
       "  85,\n",
       "  0,\n",
       "  65,\n",
       "  89,\n",
       "  81,\n",
       "  86,\n",
       "  71,\n",
       "  77,\n",
       "  78,\n",
       "  80,\n",
       "  70,\n",
       "  79,\n",
       "  67,\n",
       "  88,\n",
       "  49,\n",
       "  56,\n",
       "  42,\n",
       "  11,\n",
       "  46,\n",
       "  43,\n",
       "  40,\n",
       "  48,\n",
       "  41,\n",
       "  44,\n",
       "  17,\n",
       "  45,\n",
       "  47,\n",
       "  6,\n",
       "  4,\n",
       "  32,\n",
       "  60,\n",
       "  58,\n",
       "  51,\n",
       "  14,\n",
       "  37,\n",
       "  20,\n",
       "  7,\n",
       "  5,\n",
       "  57,\n",
       "  12,\n",
       "  15,\n",
       "  52,\n",
       "  26,\n",
       "  16,\n",
       "  61,\n",
       "  31,\n",
       "  54,\n",
       "  38,\n",
       "  8,\n",
       "  28,\n",
       "  1,\n",
       "  25,\n",
       "  34,\n",
       "  59,\n",
       "  13,\n",
       "  2,\n",
       "  35,\n",
       "  22,\n",
       "  39,\n",
       "  30,\n",
       "  53,\n",
       "  23,\n",
       "  27,\n",
       "  33,\n",
       "  9,\n",
       "  50,\n",
       "  55,\n",
       "  36,\n",
       "  21,\n",
       "  29,\n",
       "  10,\n",
       "  24,\n",
       "  19,\n",
       "  18,\n",
       "  3,\n",
       "  84,\n",
       "  82,\n",
       "  83,\n",
       "  75,\n",
       "  97,\n",
       "  74,\n",
       "  72,\n",
       "  94,\n",
       "  69,\n",
       "  66,\n",
       "  64,\n",
       "  87],\n",
       " 'Fuel_Type_initial': ['Petrol', 'Diesel', 'CNG'],\n",
       " 'Fuel_Type_Final': [2, 1, 0],\n",
       " 'Transmission_initial': ['Manual', 'Automatic'],\n",
       " 'Transmission_Final': [1, 0],\n",
       " 'Owner_initial': [0, 1, 3],\n",
       " 'Owner_Final': [0, 1, 2],\n",
       " 'Selling_type_initial': ['Dealer', 'Individual'],\n",
       " 'Selling_type_Final': [0, 1]}"
      ]
     },
     "execution_count": 23,
     "metadata": {},
     "output_type": "execute_result"
    }
   ],
   "source": [
    "cat_column=['Car_Name','Fuel_Type','Transmission','Owner','Selling_type']\n",
    "unique_dist={}\n",
    "for i in cat_column:\n",
    "    unique_dist[f'{i}_initial']=spl[i].unique().tolist()\n",
    "\n",
    "    le=LabelEncoder()\n",
    "    spl[i]=le.fit_transform(spl[i])\n",
    "    unique_dist[f'{i}_Final']=spl[i].unique().tolist()\n",
    "unique_dist"
   ]
  },
  {
   "cell_type": "code",
   "execution_count": 22,
   "metadata": {},
   "outputs": [],
   "source": [
    "with open('Cat_Columns_Encoded.json', 'w') as file:\n",
    "    json.dump(unique_dist, file , indent = 4)"
   ]
  },
  {
   "cell_type": "code",
   "execution_count": 24,
   "metadata": {},
   "outputs": [
    {
     "data": {
      "text/html": [
       "<div>\n",
       "<style scoped>\n",
       "    .dataframe tbody tr th:only-of-type {\n",
       "        vertical-align: middle;\n",
       "    }\n",
       "\n",
       "    .dataframe tbody tr th {\n",
       "        vertical-align: top;\n",
       "    }\n",
       "\n",
       "    .dataframe thead th {\n",
       "        text-align: right;\n",
       "    }\n",
       "</style>\n",
       "<table border=\"1\" class=\"dataframe\">\n",
       "  <thead>\n",
       "    <tr style=\"text-align: right;\">\n",
       "      <th></th>\n",
       "      <th>Car_Name</th>\n",
       "      <th>Year</th>\n",
       "      <th>Selling_Price</th>\n",
       "      <th>Present_Price</th>\n",
       "      <th>Driven_kms</th>\n",
       "      <th>Fuel_Type</th>\n",
       "      <th>Selling_type</th>\n",
       "      <th>Transmission</th>\n",
       "      <th>Owner</th>\n",
       "    </tr>\n",
       "  </thead>\n",
       "  <tbody>\n",
       "    <tr>\n",
       "      <th>0</th>\n",
       "      <td>90</td>\n",
       "      <td>2014</td>\n",
       "      <td>1.208960</td>\n",
       "      <td>1.720979</td>\n",
       "      <td>27000</td>\n",
       "      <td>2</td>\n",
       "      <td>0</td>\n",
       "      <td>1</td>\n",
       "      <td>0</td>\n",
       "    </tr>\n",
       "    <tr>\n",
       "      <th>1</th>\n",
       "      <td>93</td>\n",
       "      <td>2013</td>\n",
       "      <td>1.558145</td>\n",
       "      <td>2.255493</td>\n",
       "      <td>43000</td>\n",
       "      <td>1</td>\n",
       "      <td>0</td>\n",
       "      <td>1</td>\n",
       "      <td>0</td>\n",
       "    </tr>\n",
       "    <tr>\n",
       "      <th>2</th>\n",
       "      <td>68</td>\n",
       "      <td>2017</td>\n",
       "      <td>1.981001</td>\n",
       "      <td>2.287471</td>\n",
       "      <td>6900</td>\n",
       "      <td>2</td>\n",
       "      <td>0</td>\n",
       "      <td>1</td>\n",
       "      <td>0</td>\n",
       "    </tr>\n",
       "    <tr>\n",
       "      <th>3</th>\n",
       "      <td>96</td>\n",
       "      <td>2011</td>\n",
       "      <td>1.047319</td>\n",
       "      <td>1.423108</td>\n",
       "      <td>5200</td>\n",
       "      <td>2</td>\n",
       "      <td>0</td>\n",
       "      <td>1</td>\n",
       "      <td>0</td>\n",
       "    </tr>\n",
       "    <tr>\n",
       "      <th>4</th>\n",
       "      <td>92</td>\n",
       "      <td>2014</td>\n",
       "      <td>1.526056</td>\n",
       "      <td>1.927164</td>\n",
       "      <td>42450</td>\n",
       "      <td>1</td>\n",
       "      <td>0</td>\n",
       "      <td>1</td>\n",
       "      <td>0</td>\n",
       "    </tr>\n",
       "  </tbody>\n",
       "</table>\n",
       "</div>"
      ],
      "text/plain": [
       "   Car_Name  Year  Selling_Price  Present_Price  Driven_kms  Fuel_Type  \\\n",
       "0        90  2014       1.208960       1.720979       27000          2   \n",
       "1        93  2013       1.558145       2.255493       43000          1   \n",
       "2        68  2017       1.981001       2.287471        6900          2   \n",
       "3        96  2011       1.047319       1.423108        5200          2   \n",
       "4        92  2014       1.526056       1.927164       42450          1   \n",
       "\n",
       "   Selling_type  Transmission  Owner  \n",
       "0             0             1      0  \n",
       "1             0             1      0  \n",
       "2             0             1      0  \n",
       "3             0             1      0  \n",
       "4             0             1      0  "
      ]
     },
     "execution_count": 24,
     "metadata": {},
     "output_type": "execute_result"
    }
   ],
   "source": [
    "spl.head()"
   ]
  },
  {
   "cell_type": "markdown",
   "metadata": {},
   "source": [
    "# split the sample into feature and targets"
   ]
  },
  {
   "cell_type": "code",
   "execution_count": 25,
   "metadata": {},
   "outputs": [],
   "source": [
    "x=spl[['Car_Name','Year','Present_Price','Driven_kms','Fuel_Type','Selling_type','Transmission','Owner']]\n",
    "y=spl[['Selling_Price']]"
   ]
  },
  {
   "cell_type": "code",
   "execution_count": 26,
   "metadata": {},
   "outputs": [],
   "source": [
    "x_train,x_test,y_train,y_test=train_test_split(x,y,test_size=0.2,random_state=40)"
   ]
  },
  {
   "cell_type": "markdown",
   "metadata": {},
   "source": [
    "#  Model test"
   ]
  },
  {
   "cell_type": "code",
   "execution_count": 27,
   "metadata": {},
   "outputs": [
    {
     "name": "stdout",
     "output_type": "stream",
     "text": [
      "MAE = 0.1570994152822863\n",
      "MSE = 0.0398328847993389\n",
      "R2 Score = 0.9751304388403904\n"
     ]
    }
   ],
   "source": [
    "linear_reg = LinearRegression()\n",
    "linear_reg.fit(x_train , y_train)\n",
    "y_pred = linear_reg.predict(x_test)\n",
    "print(f'MAE = {metrics.mean_absolute_error(y_test,y_pred)}')\n",
    "print(f'MSE = {metrics.mean_squared_error(y_test,y_pred)}')\n",
    "print(f'R2 Score = {linear_reg.score(x_test,y_test)}')"
   ]
  },
  {
   "cell_type": "code",
   "execution_count": 28,
   "metadata": {},
   "outputs": [
    {
     "name": "stdout",
     "output_type": "stream",
     "text": [
      "MAE = 0.22728822129561713\n",
      "MSE = 0.13053094196351753\n",
      "R2 Score = 0.9185033356048311\n"
     ]
    }
   ],
   "source": [
    "decision_reg = DecisionTreeRegressor()\n",
    "decision_reg.fit(x_train , y_train)\n",
    "y_pred = decision_reg.predict(x_test)\n",
    "print(f'MAE = {metrics.mean_absolute_error(y_test,y_pred)}')\n",
    "print(f'MSE = {metrics.mean_squared_error(y_test,y_pred)}')\n",
    "print(f'R2 Score = {decision_reg.score(x_test,y_test)}')"
   ]
  },
  {
   "cell_type": "code",
   "execution_count": 30,
   "metadata": {},
   "outputs": [
    {
     "name": "stdout",
     "output_type": "stream",
     "text": [
      "MAE = 0.17660584940824778\n",
      "MSE = 0.07987322345814646\n",
      "R2 Score = 0.9185033356048311\n"
     ]
    },
    {
     "name": "stderr",
     "output_type": "stream",
     "text": [
      "c:\\Users\\halee\\anaconda3\\Lib\\site-packages\\sklearn\\base.py:1151: DataConversionWarning: A column-vector y was passed when a 1d array was expected. Please change the shape of y to (n_samples,), for example using ravel().\n",
      "  return fit_method(estimator, *args, **kwargs)\n"
     ]
    }
   ],
   "source": [
    "random_reg = RandomForestRegressor()\n",
    "random_reg.fit(x_train , y_train)\n",
    "y_pred = random_reg.predict(x_test)\n",
    "print(f'MAE = {metrics.mean_absolute_error(y_test,y_pred)}')\n",
    "print(f'MSE = {metrics.mean_squared_error(y_test,y_pred)}')\n",
    "print(f'R2 Score = {decision_reg.score(x_test,y_test)}')"
   ]
  },
  {
   "cell_type": "markdown",
   "metadata": {},
   "source": [
    "## Based three different model of regression Linear regression Have acuuracy of 97.60% accuracy with Less MSE and MAE Pickel The model for Future Use."
   ]
  },
  {
   "cell_type": "code",
   "execution_count": 31,
   "metadata": {},
   "outputs": [],
   "source": [
    "with open ('car_sell.pkl', 'wb') as f:\n",
    "    pickle.dump(linear_reg , f)"
   ]
  },
  {
   "cell_type": "code",
   "execution_count": 78,
   "metadata": {},
   "outputs": [],
   "source": [
    "with open(\"D:/project/.venv/Internship/car_pirce_prediction/Cat_Columns_Encoded.json\",'rb') as file:\n",
    "    encode_file = json.load(file)"
   ]
  },
  {
   "cell_type": "code",
   "execution_count": 84,
   "metadata": {},
   "outputs": [
    {
     "data": {
      "text/plain": [
       "87"
      ]
     },
     "execution_count": 84,
     "metadata": {},
     "output_type": "execute_result"
    }
   ],
   "source": [
    "car_name=\"jazz\"\n",
    "car_encode = encode_file['Car_Name_Final'][(encode_file[\"Car_Name_initial\"].index(car_name))]\n",
    "car_encode"
   ]
  }
 ],
 "metadata": {
  "kernelspec": {
   "display_name": "base",
   "language": "python",
   "name": "python3"
  },
  "language_info": {
   "codemirror_mode": {
    "name": "ipython",
    "version": 3
   },
   "file_extension": ".py",
   "mimetype": "text/x-python",
   "name": "python",
   "nbconvert_exporter": "python",
   "pygments_lexer": "ipython3",
   "version": "3.11.5"
  }
 },
 "nbformat": 4,
 "nbformat_minor": 2
}
